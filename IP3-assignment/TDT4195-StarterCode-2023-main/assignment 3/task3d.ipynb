{
 "cells": [
  {
   "cell_type": "code",
   "execution_count": 1,
   "id": "8624cdd3",
   "metadata": {},
   "outputs": [],
   "source": [
    "import utils\n",
    "import skimage\n",
    "import skimage.morphology\n",
    "import numpy as np\n",
    "import matplotlib.pyplot as plt\n",
    "from skimage import io"
   ]
  },
  {
   "cell_type": "code",
   "execution_count": 28,
   "id": "5925729e",
   "metadata": {},
   "outputs": [],
   "source": [
    "def fill_holes(im: np.ndarray, starting_points: list, num_iterations: int) -> np.ndarray:\n",
    "    \"\"\"\n",
    "    A function that takes a binary image (im), a set of points indicating the position of holes,\n",
    "    and fills the holes using the specified hole filling algorithm.\n",
    "\n",
    "    args:\n",
    "        im: np.ndarray of shape (H, W) with boolean values (dtype=np.bool)\n",
    "        starting_points: list of list containing starting points (row, col). Ex: [[row1, col1], [row2, col2], ...]\n",
    "        num_iterations: integer defining the number of iterations to apply the hole filling algorithm\n",
    "    return:\n",
    "        (np.ndarray) of shape (H, W). dtype=np.bool\n",
    "    \"\"\"\n",
    "    ### START YOUR CODE HERE ### (You can change anything inside this block)\n",
    "    # You can also define other helper functions\n",
    "    structuring_element = np.array([\n",
    "        [1, 1, 1],\n",
    "        [1, 1, 1],\n",
    "        [1, 1, 1]\n",
    "    ], dtype=bool)\n",
    "\n",
    "    x_n = np.zeros_like(im, dtype=bool)\n",
    "    i_c = ~im\n",
    "\n",
    "    for row, column in starting_points:\n",
    "        x_n[row, column] = 1\n",
    "\n",
    "    ## Perform iterations of the hole filling algorithm\n",
    "    for n in range(num_iterations):\n",
    "        x_n = (skimage.morphology.binary_dilation(x_n, structuring_element)) & i_c\n",
    "\n",
    "    result = x_n | im\n",
    "    \n",
    "    return result\n",
    "    ### END YOUR CODE HERE ###\n"
   ]
  },
  {
   "cell_type": "code",
   "execution_count": 29,
   "id": "4e56b601",
   "metadata": {},
   "outputs": [
    {
     "name": "stdout",
     "output_type": "stream",
     "text": [
      "Saving image to: image_processed/cards-filled.png\n"
     ]
    }
   ],
   "source": [
    "if __name__ == \"__main__\":\n",
    "    im = io.imread('images/cards.png', as_gray=True)\n",
    "    binary_image = im != 0\n",
    "    starting_points = [ \n",
    "        # (row, column)\n",
    "        [50, 80],\n",
    "        [275, 80],\n",
    "        [50, 175],\n",
    "        [275, 175],\n",
    "        [50,390],\n",
    "        [275, 390],\n",
    "        [175,650]\n",
    "    ]\n",
    "    num_iterations = 50\n",
    "\n",
    "    result = fill_holes(binary_image, starting_points, num_iterations)\n",
    "\n",
    "    assert im.shape == result.shape, \"Expected image shape ({}) to be same as resulting image shape ({})\".format(\n",
    "            im.shape, result.shape)\n",
    "    assert result.dtype == bool, \"Expected resulting image dtype to be bool. Was: {}\".format(\n",
    "            result.dtype)\n",
    "\n",
    "    result = utils.to_uint8(result)\n",
    "    utils.save_im(\"cards-filled.png\", result)"
   ]
  },
  {
   "cell_type": "code",
   "execution_count": null,
   "id": "0e931353-aacc-4535-b11c-d2b84d62badc",
   "metadata": {},
   "outputs": [],
   "source": []
  }
 ],
 "metadata": {
  "kernelspec": {
   "display_name": "Python 3 (ipykernel)",
   "language": "python",
   "name": "python3"
  },
  "language_info": {
   "codemirror_mode": {
    "name": "ipython",
    "version": 3
   },
   "file_extension": ".py",
   "mimetype": "text/x-python",
   "name": "python",
   "nbconvert_exporter": "python",
   "pygments_lexer": "ipython3",
   "version": "3.10.12"
  }
 },
 "nbformat": 4,
 "nbformat_minor": 5
}
