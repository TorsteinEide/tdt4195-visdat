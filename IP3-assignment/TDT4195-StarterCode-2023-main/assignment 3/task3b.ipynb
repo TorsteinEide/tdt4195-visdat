{
 "cells": [
  {
   "cell_type": "code",
   "execution_count": 1,
   "id": "8f4cc61c",
   "metadata": {},
   "outputs": [],
   "source": [
    "import utils\n",
    "import skimage\n",
    "import skimage.morphology\n",
    "import numpy as np\n",
    "import pathlib"
   ]
  },
  {
   "cell_type": "code",
   "execution_count": 30,
   "id": "0496709e",
   "metadata": {},
   "outputs": [],
   "source": [
    "import numpy as np\n",
    "import skimage.morphology\n",
    "\n",
    "def distance_transform(im: np.ndarray) -> np.ndarray:\n",
    "    \"\"\"\n",
    "    A function that computes the distance to the closest boundary pixel.\n",
    "\n",
    "    args:\n",
    "        im: np.ndarray of shape (H, W) with boolean values (dtype=np.bool)\n",
    "    return:\n",
    "        (np.ndarray) of shape (H, W). dtype=np.int32\n",
    "    \"\"\"\n",
    "    assert im.dtype == bool\n",
    "    structuring_element = np.array([\n",
    "        [1, 1, 1],\n",
    "        [1, 1, 1],\n",
    "        [1, 1, 1]\n",
    "    ], dtype=bool)\n",
    "    result = im.astype(np.int32)\n",
    "\n",
    "    distance = 1\n",
    "    current_im = im\n",
    "    next_im = skimage.morphology.erosion(im, structuring_element)\n",
    "\n",
    "    ## loop until here are no more pixels\n",
    "    while current_im.sum() != 0:\n",
    "        ##find the boundary current image and a eroded version of current iamge\n",
    "        boundary = current_im ^ next_im\n",
    "        ## Update the result\n",
    "        result[boundary] = distance\n",
    "\n",
    "        ## Update variables for next iteration\n",
    "        current_im = next_im\n",
    "        next_im = skimage.morphology.erosion(current_im, structuring_element)\n",
    "\n",
    "        ## Increment distance\n",
    "        distance += 1\n",
    "    \n",
    "    return result\n"
   ]
  },
  {
   "cell_type": "code",
   "execution_count": 31,
   "id": "fb43730d",
   "metadata": {},
   "outputs": [
    {
     "name": "stdout",
     "output_type": "stream",
     "text": [
      "Reading image: image_processed/noisy-filtered.png\n",
      "Saving image to: image_processed/noisy-distance.png\n"
     ]
    }
   ],
   "source": [
    "if __name__ == \"__main__\":\n",
    "    im = utils.read_image(\"noisy-filtered.png\", image_folder=pathlib.Path(\"image_processed\")) # <-- This image is created in task3a\n",
    "    binary_image = (im != 0)\n",
    "    distance = distance_transform(binary_image)\n",
    "\n",
    "    assert im.shape == distance.shape, \"Expected image shape ({}) to be same as resulting image shape ({})\".format(\n",
    "            im.shape, distance.shape)\n",
    "    assert distance.dtype == np.int32, \"Expected resulting image dtype to be np.int32. Was: {}\".format(\n",
    "            distance.dtype)\n",
    "\n",
    "    distance = utils.to_uint8(distance)\n",
    "    utils.save_im(\"noisy-distance.png\", distance)"
   ]
  },
  {
   "cell_type": "code",
   "execution_count": null,
   "id": "accb465a-6888-46c0-8c27-53e777ddad4a",
   "metadata": {},
   "outputs": [],
   "source": []
  }
 ],
 "metadata": {
  "kernelspec": {
   "display_name": "Python 3 (ipykernel)",
   "language": "python",
   "name": "python3"
  },
  "language_info": {
   "codemirror_mode": {
    "name": "ipython",
    "version": 3
   },
   "file_extension": ".py",
   "mimetype": "text/x-python",
   "name": "python",
   "nbconvert_exporter": "python",
   "pygments_lexer": "ipython3",
   "version": "3.10.12"
  }
 },
 "nbformat": 4,
 "nbformat_minor": 5
}
