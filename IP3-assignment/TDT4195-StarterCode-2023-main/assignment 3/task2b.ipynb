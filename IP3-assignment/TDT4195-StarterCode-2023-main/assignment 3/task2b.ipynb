{
 "cells": [
  {
   "cell_type": "code",
   "execution_count": 6,
   "id": "0b6d523e",
   "metadata": {},
   "outputs": [],
   "source": [
    "import utils\n",
    "import numpy as np\n"
   ]
  },
  {
   "cell_type": "code",
   "execution_count": 7,
   "id": "b7024a2a",
   "metadata": {},
   "outputs": [],
   "source": [
    "import numpy as np\n",
    "import matplotlib.pyplot as plt\n",
    "\n",
    "def region_growing(im: np.ndarray, seed_points: list, T: int) -> np.ndarray:\n",
    "    \"\"\"\n",
    "    A region growing algorithm that segments an image into 1 or 0 (True or False).\n",
    "    Finds candidate pixels with a Moore-neighborhood (8-connectedness).\n",
    "    Uses pixel intensity thresholding with the threshold T as the homogeneity criteria.\n",
    "    The function takes in a grayscale image and outputs a boolean image\n",
    "\n",
    "    args:\n",
    "        im: np.ndarray of shape (H, W) in the range [0, 255] (dtype=np.uint8)\n",
    "        seed_points: list of list containing seed points (row, col). Ex:\n",
    "            [[row1, col1], [row2, col2], ...]\n",
    "        T: integer value defining the threshold to used for the homogeneity criteria.\n",
    "    return:\n",
    "        (np.ndarray) of shape (H, W). dtype=bool\n",
    "    \"\"\"\n",
    "    \n",
    "    ## Function to check if a point is within the image boundaries\n",
    "    def within_bounds(location, shape):\n",
    "        return 0 <= location[0] < shape[0] and 0 <= location[1] < shape[1]\n",
    "\n",
    "    ## Check if current pixel values within the threshold\n",
    "    def intensity_within_threshold(current_intensity, seed_intensity ):\n",
    "        return abs(current_intensity - seed_intensity) <= T\n",
    "\n",
    "    ## Find the 8 neighbors surrounding the point\n",
    "    def find_neighbors(current_point_x, current_point_y):\n",
    "        neighbors = [\n",
    "            (current_point_x - 1, current_point_y), ## left of the point\n",
    "            (current_point_x - 1, current_point_y- 1), ## below and to the left\n",
    "            (current_point_x + 1, current_point_y - 1), ## above and to the left\n",
    "            (current_point_x+ 1, current_point_y), ## right of the point\n",
    "            (current_point_x - 1, current_point_y + 1), ## below and to the right\n",
    "            (current_point_x + 1, current_point_y + 1), ## above and to the right\n",
    "            (current_point_x, current_point_y - 1), ## below the current point\n",
    "            (current_point_x, current_point_y + 1), ## above the current point\n",
    "        ]\n",
    "        return neighbors\n",
    "\n",
    "    ## Initialize an empty boolean array for the segmented image\n",
    "    segmented = np.zeros_like(im, dtype=bool)\n",
    "    im = im.astype(float)\n",
    "\n",
    "    ## Iterate over each seed point\n",
    "    for seed_point in seed_points:\n",
    "        queue = [seed_point]\n",
    "        seed_intensity = im[seed_point[0], seed_point[1]]\n",
    "\n",
    "        ## perform region growing with all seeds in the queue\n",
    "        while len(queue) > 0:\n",
    "            ## Update the queue by popping the first element\n",
    "            current_point = queue.pop(0)\n",
    "\n",
    "            ## Check if point is within bounds and not already segmented\n",
    "            if not within_bounds(current_point, im.shape) or segmented[current_point[0], current_point[1]]:\n",
    "                continue\n",
    "\n",
    "            ## Get current points intensity value\n",
    "            current_value = im[current_point[0], current_point[1]]\n",
    "            \n",
    "            if intensity_within_threshold(current_value, seed_intensity):\n",
    "                # Mark the current point as part of the region\n",
    "                segmented[current_point[0], current_point[1]] = True\n",
    "                neighbors = find_neighbors(current_point[0], current_point[1])\n",
    "                \n",
    "                ## Add valid neighbors to the queue\n",
    "                for neighbor in neighbors:\n",
    "                    if within_bounds(neighbor, im.shape):\n",
    "                        queue.append(neighbor)\n",
    "                        \n",
    "    ## Display the segmented image (consider removing this line for better flexibility)\n",
    "    plt.imshow(segmented, cmap=\"gray\")\n",
    "\n",
    "    return segmented\n"
   ]
  },
  {
   "cell_type": "code",
   "execution_count": 8,
   "id": "ce93bac9",
   "metadata": {},
   "outputs": [
    {
     "name": "stdout",
     "output_type": "stream",
     "text": [
      "Reading image: images/defective-weld.png\n",
      "Saving image to: image_processed/defective-weld-segmented.png\n"
     ]
    },
    {
     "data": {
      "image/png": "[encoded data removed]",
      "text/plain": [
       "<Figure size 640x480 with 1 Axes>"
      ]
     },
     "metadata": {},
     "output_type": "display_data"
    }
   ],
   "source": [
    "if __name__ == \"__main__\":\n",
    "    # DO NOT CHANGE\n",
    "    im = utils.read_image(\"defective-weld.png\")\n",
    "\n",
    "    seed_points = [ # (row, column)\n",
    "        [254, 138], # Seed point 1\n",
    "        [253, 296], # Seed point 2\n",
    "        [233, 436], # Seed point 3\n",
    "        [232, 417], # Seed point 4\n",
    "    ]\n",
    "    intensity_threshold = 50\n",
    "    segmented_image = region_growing(im, seed_points, intensity_threshold)\n",
    "\n",
    "    assert im.shape == segmented_image.shape, \"Expected image shape ({}) to be same as thresholded image shape ({})\".format(\n",
    "        im.shape, segmented_image.shape)\n",
    "    assert segmented_image.dtype == bool, \"Expected thresholded image dtype to be bool. Was: {}\".format(\n",
    "            segmented_image.dtype)\n",
    "\n",
    "    segmented_image = utils.to_uint8(segmented_image)\n",
    "    utils.save_im(\"defective-weld-segmented.png\", segmented_image)"
   ]
  },
  {
   "cell_type": "code",
   "execution_count": null,
   "id": "de267a16-3e42-4911-98ec-0d604999363d",
   "metadata": {},
   "outputs": [],
   "source": []
  },
  {
   "cell_type": "code",
   "execution_count": null,
   "id": "c7665bcd-4817-4a4d-9df2-14f867a8db3e",
   "metadata": {},
   "outputs": [],
   "source": []
  }
 ],
 "metadata": {
  "kernelspec": {
   "display_name": "Python 3 (ipykernel)",
   "language": "python",
   "name": "python3"
  },
  "language_info": {
   "codemirror_mode": {
    "name": "ipython",
    "version": 3
   },
   "file_extension": ".py",
   "mimetype": "text/x-python",
   "name": "python",
   "nbconvert_exporter": "python",
   "pygments_lexer": "ipython3",
   "version": "3.10.12"
  }
 },
 "nbformat": 4,
 "nbformat_minor": 5
}
