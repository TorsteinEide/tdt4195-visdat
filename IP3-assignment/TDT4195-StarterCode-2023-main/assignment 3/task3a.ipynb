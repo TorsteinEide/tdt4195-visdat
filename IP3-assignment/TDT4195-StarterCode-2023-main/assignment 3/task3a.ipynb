{
 "cells": [
  {
   "cell_type": "code",
   "execution_count": 1,
   "id": "1462ce73",
   "metadata": {},
   "outputs": [],
   "source": [
    "import utils\n",
    "import skimage\n",
    "import skimage.morphology\n",
    "import numpy as np"
   ]
  },
  {
   "cell_type": "code",
   "execution_count": 2,
   "id": "cd224cec",
   "metadata": {},
   "outputs": [],
   "source": [
    "def remove_noise(im: np.ndarray) -> np.ndarray:\n",
    "    \"\"\"\n",
    "    A function that removes noise in the input image.\n",
    "    args:\n",
    "        im: np.ndarray of shape (H, W) with boolean values (dtype=bool)\n",
    "    return:\n",
    "        (np.ndarray) of shape (H, W). dtype=bool\n",
    "    \"\"\"\n",
    "    ### START YOUR CODE HERE ### (You can change anything inside this block)\n",
    "    \n",
    "    ## Structuring element. 13 was chosen because it was the values that gave result with most resemblance to the reference image in the assignment\n",
    "    selem = np.ones((13, 13), dtype=bool)\n",
    "    \n",
    "    ## Opening to smooth the triangle (dilation followed by erosion)\n",
    "    closed_im = skimage.morphology.binary_opening(im, selem)\n",
    "    \n",
    "    ## Closing to close the gaps inside the triangle (erosion followed by dilation)\n",
    "    result = skimage.morphology.binary_closing(closed_im, selem)\n",
    "\n",
    "    return result\n",
    "    \n",
    "    ### END YOUR CODE HERE ###\n",
    "\n"
   ]
  },
  {
   "cell_type": "code",
   "execution_count": 3,
   "id": "1c3b9abe",
   "metadata": {},
   "outputs": [
    {
     "name": "stdout",
     "output_type": "stream",
     "text": [
      "Reading image: images/noisy.png\n",
      "Saving image to: image_processed/noisy-filtered.png\n"
     ]
    }
   ],
   "source": [
    "if __name__ == \"__main__\":\n",
    "    # DO NOT CHANGE\n",
    "    im = utils.read_image(\"noisy.png\")\n",
    "\n",
    "    binary_image = (im != 0)\n",
    "    noise_free_image = remove_noise(binary_image)\n",
    "\n",
    "    assert im.shape == noise_free_image.shape, \"Expected image shape ({}) to be same as resulting image shape ({})\".format(\n",
    "            im.shape, noise_free_image.shape)\n",
    "    assert noise_free_image.dtype == bool, \"Expected resulting image dtype to be bool. Was: {}\".format(\n",
    "            noise_free_image.dtype)\n",
    "\n",
    "    noise_free_image = utils.to_uint8(noise_free_image)\n",
    "    utils.save_im(\"noisy-filtered.png\", noise_free_image)"
   ]
  },
  {
   "cell_type": "code",
   "execution_count": null,
   "id": "f67972c9-4b04-4745-a097-2b2ddf8e1bf8",
   "metadata": {},
   "outputs": [],
   "source": []
  }
 ],
 "metadata": {
  "kernelspec": {
   "display_name": "Python 3 (ipykernel)",
   "language": "python",
   "name": "python3"
  },
  "language_info": {
   "codemirror_mode": {
    "name": "ipython",
    "version": 3
   },
   "file_extension": ".py",
   "mimetype": "text/x-python",
   "name": "python",
   "nbconvert_exporter": "python",
   "pygments_lexer": "ipython3",
   "version": "3.10.12"
  }
 },
 "nbformat": 4,
 "nbformat_minor": 5
}
